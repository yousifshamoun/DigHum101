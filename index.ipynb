{
 "cells": [
  {
   "cell_type": "markdown",
   "id": "4a55ab89",
   "metadata": {},
   "source": [
    "<div style=\"dispaly:flex\"><h1>Car-centric Planning and Obesity in the U.S.</h1></div>"
   ]
  },
  {
   "cell_type": "code",
   "execution_count": 27,
   "id": "120b4565",
   "metadata": {},
   "outputs": [],
   "source": [
    "import requests\n",
    "import pandas as pd\n",
    "from bs4 import BeautifulSoup\n",
    "from collections import Counter\n",
    "import numpy as np\n",
    "import matplotlib.pyplot as plt \n",
    "import us_state_abbrev\n",
    "from sklearn.linear_model import LinearRegression\n",
    "from sklearn.linear_model import LogisticRegression\n",
    "from sklearn.cluster import KMeans\n",
    "from sklearn.cluster import DBSCAN"
   ]
  },
  {
   "cell_type": "markdown",
   "id": "f149ee4c",
   "metadata": {},
   "source": [
    "## Walkability from walkscore.com"
   ]
  },
  {
   "cell_type": "markdown",
   "id": "3d3f0771",
   "metadata": {},
   "source": [
    "<img src=\"table.png\" alt=\"table\"/>"
   ]
  },
  {
   "cell_type": "markdown",
   "id": "3c135f85",
   "metadata": {},
   "source": [
    "## Web Scrapping"
   ]
  },
  {
   "cell_type": "code",
   "execution_count": 3,
   "id": "55a840c7",
   "metadata": {},
   "outputs": [],
   "source": [
    "walk_score_url='https://www.walkscore.com/cities-and-neighborhoods/'\n",
    "r=requests.get(walk_score_url)\n",
    "source=r.text\n",
    "soup = BeautifulSoup(source, 'html5lib')\n",
    "body = soup.find(id=\"citysort\")"
   ]
  },
  {
   "cell_type": "code",
   "execution_count": 4,
   "id": "744989fe",
   "metadata": {},
   "outputs": [
    {
     "data": {
      "text/plain": [
       "[<tbody> <tr id=\"city_2654\"> <td class=\"city\"><a href=\"/CA-QC/Gatineau\">Gatineau</a></td> <td class=\"state\">CA-QC</td> <td class=\"score\">37.4</td> <td class=\"tsc\">40.8</td> <td class=\"bsc\">57.6</td> <td class=\"pop\">265,349</td> </tr> <tr id=\"city_2683\"> <td class=\"city\"><a href=\"/CA-QC/Longueuil\">Longueuil</a></td> <td class=\"state\">CA-QC</td> <td class=\"score\">54.4</td> <td class=\"tsc\">52.5</td> <td class=\"bsc\">69.6</td> <td class=\"pop\">231,409</td> </tr> <tr id=\"city_2714\"> <td class=\"city\"><a href=\"/CA-QC/Qu%C3%A9bec\">QuÃ©bec</a></td> <td class=\"state\">CA-QC</td> <td class=\"score\">44.6</td> <td class=\"tsc\">46.9</td> <td class=\"bsc\">59.3</td> <td class=\"pop\">516,622</td> </tr> <tr id=\"city_2752\"> <td class=\"city\"><a href=\"/CA-QC/Montr%C3%A9al\">MontrÃ©al</a></td> <td class=\"state\">CA-QC</td> <td class=\"score\">65.4</td> <td class=\"tsc\">67.0</td> <td class=\"bsc\">72.6</td> <td class=\"pop\">1,649,519</td> </tr> <tr id=\"city_2753\"> <td class=\"city\"><a href=\"/CA-QC/Laval\">Laval</a></td> <td class=\"state\">CA-QC</td> <td class=\"score\">43.1</td> <td class=\"tsc\">46.3</td> <td class=\"bsc\">57.3</td> <td class=\"pop\">401,553</td> </tr> <tr id=\"city_2606\"> <td class=\"city\"><a href=\"/CA-ON/Windsor\">Windsor</a></td> <td class=\"state\">CA-ON</td> <td class=\"score\">42.4</td> <td class=\"tsc\">37.9</td> <td class=\"bsc\">52.3</td> <td class=\"pop\">210,891</td> </tr> <tr id=\"city_2610\"> <td class=\"city\"><a href=\"/CA-ON/Kitchener\">Kitchener</a></td> <td class=\"state\">CA-ON</td> <td class=\"score\">44.6</td> <td class=\"tsc\">46.8</td> <td class=\"bsc\">54.9</td> <td class=\"pop\">219,153</td> </tr> <tr id=\"city_2613\"> <td class=\"city\"><a href=\"/CA-ON/Ottawa\">Ottawa</a></td> <td class=\"state\">CA-ON</td> <td class=\"score\">45.1</td> <td class=\"tsc\">49.5</td> <td class=\"bsc\">63.6</td> <td class=\"pop\">883,391</td> </tr> <tr id=\"city_2615\"> <td class=\"city\"><a href=\"/CA-ON/Vaughan\">Vaughan</a></td> <td class=\"state\">CA-ON</td> <td class=\"score\">34.8</td> <td class=\"tsc\">42.8</td> <td class=\"bsc\">44.3</td> <td class=\"pop\">288,301</td> </tr> <tr id=\"city_2630\"> <td class=\"city\"><a href=\"/CA-ON/Hamilton\">Hamilton</a></td> <td class=\"state\">CA-ON</td> <td class=\"score\">49.6</td> <td class=\"tsc\">45.4</td> <td class=\"bsc\">50.3</td> <td class=\"pop\">519,949</td> </tr> <tr id=\"city_2647\"> <td class=\"city\"><a href=\"/CA-ON/Mississauga\">Mississauga</a></td> <td class=\"state\">CA-ON</td> <td class=\"score\">48.9</td> <td class=\"tsc\">56.0</td> <td class=\"bsc\">54.1</td> <td class=\"pop\">713,443</td> </tr> <tr id=\"city_2648\"> <td class=\"city\"><a href=\"/CA-ON/Brampton\">Brampton</a></td> <td class=\"state\">CA-ON</td> <td class=\"score\">42.5</td> <td class=\"tsc\">53.3</td> <td class=\"bsc\">54.8</td> <td class=\"pop\">523,911</td> </tr> <tr id=\"city_2659\"> <td class=\"city\"><a href=\"/CA-ON/Toronto\">Toronto</a></td> <td class=\"state\">CA-ON</td> <td class=\"score\">61.0</td> <td class=\"tsc\">78.2</td> <td class=\"bsc\">61.0</td> <td class=\"pop\">2,615,060</td> </tr> <tr id=\"city_2660\"> <td class=\"city\"><a href=\"/CA-ON/London\">London</a></td> <td class=\"state\">CA-ON</td> <td class=\"score\">38.6</td> <td class=\"tsc\">45.0</td> <td class=\"bsc\">52.8</td> <td class=\"pop\">366,151</td> </tr> <tr id=\"city_2831\"> <td class=\"city\"><a href=\"/CA-ON/Markham\">Markham</a></td> <td class=\"state\">CA-ON</td> <td class=\"score\">34.5</td> <td class=\"tsc\">49.3</td> <td class=\"bsc\">46.8</td> <td class=\"pop\">301,709</td> </tr> <tr id=\"city_2555\"> <td class=\"city\"><a href=\"/CA-MB/Winnipeg\">Winnipeg</a></td> <td class=\"state\">CA-MB</td> <td class=\"score\">48.5</td> <td class=\"tsc\">51.2</td> <td class=\"bsc\">61.1</td> <td class=\"pop\">663,617</td> </tr> <tr id=\"city_2582\"> <td class=\"city\"><a href=\"/CA-SK/Saskatoon\">Saskatoon</a></td> <td class=\"state\">CA-SK</td> <td class=\"score\">45.7</td> <td class=\"tsc\">45.0</td> <td class=\"bsc\">31.7</td> <td class=\"pop\">222,189</td> </tr> <tr id=\"city_2569\"> <td class=\"city\"><a href=\"/CA-AB/Calgary\">Calgary</a></td> <td class=\"state\">CA-AB</td> <td class=\"score\">39.1</td> <td class=\"tsc\">49.5</td> <td class=\"bsc\">50.1</td> <td class=\"pop\">1,096,833</td> </tr> <tr id=\"city_2595\"> <td class=\"city\"><a href=\"/CA-AB/Edmonton\">Edmonton</a></td> <td class=\"state\">CA-AB</td> <td class=\"score\">40.2</td> <td class=\"tsc\">48.6</td> <td class=\"bsc\">39.5</td> <td class=\"pop\">812,201</td> </tr> <tr id=\"city_2506\"> <td class=\"city\"><a href=\"/CA-BC/Surrey\">Surrey</a></td> <td class=\"state\">CA-BC</td> <td class=\"score\">46.1</td> <td class=\"tsc\">47.1</td> <td class=\"bsc\">55.9</td> <td class=\"pop\">468,251</td> </tr> <tr id=\"city_2507\"> <td class=\"city\"><a href=\"/CA-BC/Burnaby\">Burnaby</a></td> <td class=\"state\">CA-BC</td> <td class=\"score\">60.1</td> <td class=\"tsc\">66.8</td> <td class=\"bsc\">59.5</td> <td class=\"pop\">223,218</td> </tr> <tr id=\"city_2538\"> <td class=\"city\"><a href=\"/CA-BC/Vancouver\">Vancouver</a></td> <td class=\"state\">CA-BC</td> <td class=\"score\">79.8</td> <td class=\"tsc\">74.4</td> <td class=\"bsc\">78.9</td> <td class=\"pop\">603,502</td> </tr> <tr id=\"city_2\"> <td class=\"city\"><a href=\"/CA/Los_Angeles\">Los Angeles</a></td> <td class=\"state\">CA</td> <td class=\"score\">68.6</td> <td class=\"tsc\">52.9</td> <td class=\"bsc\">58.7</td> <td class=\"pop\">3,792,621</td> </tr> <tr id=\"city_8\"> <td class=\"city\"><a href=\"/CA/San_Diego\">San Diego</a></td> <td class=\"state\">CA</td> <td class=\"score\">53.3</td> <td class=\"tsc\">37.3</td> <td class=\"bsc\">43.0</td> <td class=\"pop\">1,307,402</td> </tr> <tr id=\"city_10\"> <td class=\"city\"><a href=\"/CA/San_Jose\">San Jose</a></td> <td class=\"state\">CA</td> <td class=\"score\">50.5</td> <td class=\"tsc\">40.1</td> <td class=\"bsc\">61.5</td> <td class=\"pop\">945,942</td> </tr> <tr id=\"city_13\"> <td class=\"city\"><a href=\"/CA/San_Francisco\">San Francisco</a></td> <td class=\"state\">CA</td> <td class=\"score\">88.7</td> <td class=\"tsc\">77.1</td> <td class=\"bsc\">72.3</td> <td class=\"pop\">805,235</td> </tr> <tr id=\"city_34\"> <td class=\"city\"><a href=\"/CA/Fresno\">Fresno</a></td> <td class=\"state\">CA</td> <td class=\"score\">46.6</td> <td class=\"tsc\">33.1</td> <td class=\"bsc\">58.1</td> <td class=\"pop\">494,665</td> </tr> <tr id=\"city_35\"> <td class=\"city\"><a href=\"/CA/Sacramento\">Sacramento</a></td> <td class=\"state\">CA</td> <td class=\"score\">49.0</td> <td class=\"tsc\">33.9</td> <td class=\"bsc\">66.9</td> <td class=\"pop\">466,488</td> </tr> <tr id=\"city_36\"> <td class=\"city\"><a href=\"/CA/Long_Beach\">Long Beach</a></td> <td class=\"state\">CA</td> <td class=\"score\">73.3</td> <td class=\"tsc\">48.9</td> <td class=\"bsc\">70.1</td> <td class=\"pop\">462,257</td> </tr> <tr id=\"city_47\"> <td class=\"city\"><a href=\"/CA/Oakland\">Oakland</a></td> <td class=\"state\">CA</td> <td class=\"score\">75.3</td> <td class=\"tsc\">56.6</td> <td class=\"bsc\">65.5</td> <td class=\"pop\">390,724</td> </tr> <tr id=\"city_51\"> <td class=\"city\"><a href=\"/CA/Bakersfield\">Bakersfield</a></td> <td class=\"state\">CA</td> <td class=\"score\">37.3</td> <td class=\"tsc\">24.6</td> <td class=\"bsc\">43.7</td> <td class=\"pop\">347,483</td> </tr> <tr id=\"city_54\"> <td class=\"city\"><a href=\"/CA/Anaheim\">Anaheim</a></td> <td class=\"state\">CA</td> <td class=\"score\">55.7</td> <td class=\"tsc\">33.9</td> <td class=\"bsc\">52.3</td> <td class=\"pop\">336,265</td> </tr> <tr id=\"city_57\"> <td class=\"city\"><a href=\"/CA/Santa_Ana\">Santa Ana</a></td> <td class=\"state\">CA</td> <td class=\"score\">67.1</td> <td class=\"tsc\">43.3</td> <td class=\"bsc\">62.2</td> <td class=\"pop\">324,528</td> </tr> <tr id=\"city_61\"> <td class=\"city\"><a href=\"/CA/Riverside\">Riverside</a></td> <td class=\"state\">CA</td> <td class=\"score\">42.7</td> <td class=\"tsc\">29.9</td> <td class=\"bsc\">48.9</td> <td class=\"pop\">303,871</td> </tr> <tr id=\"city_65\"> <td class=\"city\"><a href=\"/CA/Stockton\">Stockton</a></td> <td class=\"state\">CA</td> <td class=\"score\">43.7</td> <td class=\"tsc\">25.4</td> <td class=\"bsc\">52.4</td> <td class=\"pop\">291,707</td> </tr> <tr id=\"city_77\"> <td class=\"city\"><a href=\"/CA/Chula_Vista\">Chula Vista</a></td> <td class=\"state\">CA</td> <td class=\"score\">45.6</td> <td class=\"tsc\">35.4</td> <td class=\"bsc\">41.2</td> <td class=\"pop\">243,916</td> </tr> <tr id=\"city_96\"> <td class=\"city\"><a href=\"/CA/Fremont\">Fremont</a></td> <td class=\"state\">CA</td> <td class=\"score\">49.9</td> <td class=\"tsc\">36.3</td> <td class=\"bsc\">54.4</td> <td class=\"pop\">214,089</td> </tr> <tr id=\"city_97\"> <td class=\"city\"><a href=\"/CA/Irvine\">Irvine</a></td> <td class=\"state\">CA</td> <td class=\"score\">43.2</td> <td class=\"tsc\">25.7</td> <td class=\"bsc\">69.5</td> <td class=\"pop\">212,375</td> </tr> <tr id=\"city_100\"> <td class=\"city\"><a href=\"/CA/San_Bernardino\">San Bernardino</a></td> <td class=\"state\">CA</td> <td class=\"score\">45.0</td> <td class=\"tsc\">30.9</td> <td class=\"bsc\">43.6</td> <td class=\"pop\">209,924</td> </tr> <tr id=\"city_18\"> <td class=\"city\"><a href=\"/MI/Detroit\">Detroit</a></td> <td class=\"state\">MI</td> <td class=\"score\">51.1</td> <td class=\"tsc\">35.7</td> <td class=\"bsc\">52.1</td> <td class=\"pop\">713,777</td> </tr> <tr id=\"city_3\"> <td class=\"city\"><a href=\"/IL/Chicago\">Chicago</a></td> <td class=\"state\">IL</td> <td class=\"score\">77.2</td> <td class=\"tsc\">65.0</td> <td class=\"bsc\">72.2</td> <td class=\"pop\">2,695,598</td> </tr> <tr id=\"city_23\"> <td class=\"city\"><a href=\"/WA/Seattle\">Seattle</a></td> <td class=\"state\">WA</td> <td class=\"score\">74.4</td> <td class=\"tsc\">59.6</td> <td class=\"bsc\">71.1</td> <td class=\"pop\">608,660</td> </tr> <tr id=\"city_101\"> <td class=\"city\"><a href=\"/WA/Spokane\">Spokane</a></td> <td class=\"state\">WA</td> <td class=\"score\">49.2</td> <td class=\"tsc\">36.0</td> <td class=\"bsc\">52.1</td> <td class=\"pop\">208,916</td> </tr> <tr id=\"city_29\"> <td class=\"city\"><a href=\"/OR/Portland\">Portland</a></td> <td class=\"state\">OR</td> <td class=\"score\">67.3</td> <td class=\"tsc\">49.3</td> <td class=\"bsc\">82.7</td> <td class=\"pop\">583,776</td> </tr> <tr id=\"city_1\"> <td class=\"city\"><a href=\"/NY/New_York\">New York</a></td> <td class=\"state\">NY</td> <td class=\"score\">88.0</td> <td class=\"tsc\">88.6</td> <td class=\"bsc\">69.3</td> <td class=\"pop\">8,175,133</td> </tr> <tr id=\"city_70\"> <td class=\"city\"><a href=\"/NY/Buffalo\">Buffalo</a></td> <td class=\"state\">NY</td> <td class=\"score\">66.6</td> <td class=\"tsc\">47.5</td> <td class=\"bsc\">62.8</td> <td class=\"pop\">261,310</td> </tr> <tr id=\"city_99\"> <td class=\"city\"><a href=\"/NY/Rochester\">Rochester</a></td> <td class=\"state\">NY</td> <td class=\"score\">60.7</td> <td class=\"tsc\">41.3</td> <td class=\"bsc\">59.9</td> <td class=\"pop\">210,565</td> </tr> <tr id=\"city_6\"> <td class=\"city\"><a href=\"/AZ/Phoenix\">Phoenix</a></td> <td class=\"state\">AZ</td> <td class=\"score\">41.4</td> <td class=\"tsc\">35.6</td> <td class=\"bsc\">55.9</td> <td class=\"pop\">1,445,632</td> </tr> <tr id=\"city_33\"> <td class=\"city\"><a href=\"/AZ/Tucson\">Tucson</a></td> <td class=\"state\">AZ</td> <td class=\"score\">43.2</td> <td class=\"tsc\">34.5</td> <td class=\"bsc\">66.3</td> <td class=\"pop\">520,116</td> </tr> <tr id=\"city_38\"> <td class=\"city\"><a href=\"/AZ/Mesa\">Mesa</a></td> <td class=\"state\">AZ</td> <td class=\"score\">37.9</td> <td class=\"tsc\">27.0</td> <td class=\"bsc\">59.6</td> <td class=\"pop\">439,041</td> </tr> <tr id=\"city_80\"> <td class=\"city\"><a href=\"/AZ/Chandler\">Chandler</a></td> <td class=\"state\">AZ</td> <td class=\"score\">35.4</td> <td class=\"tsc\">24.4</td> <td class=\"bsc\">55.4</td> <td class=\"pop\">236,123</td> </tr> <tr id=\"city_88\"> <td class=\"city\"><a href=\"/AZ/Glendale\">Glendale</a></td> <td class=\"state\">AZ</td> <td class=\"score\">40.2</td> <td class=\"tsc\">33.5</td> <td class=\"bsc\">56.5</td> <td class=\"pop\">226,721</td> </tr> <tr id=\"city_93\"> <td class=\"city\"><a href=\"/AZ/Scottsdale\">Scottsdale</a></td> <td class=\"state\">AZ</td> <td class=\"score\">31.9</td> <td class=\"tsc\">23.3</td> <td class=\"bsc\">56.4</td> <td class=\"pop\">217,385</td> </tr> <tr id=\"city_102\"> <td class=\"city\"><a href=\"/AZ/Gilbert\">Gilbert</a></td> <td class=\"state\">AZ</td> <td class=\"score\">29.0</td> <td class=\"tsc\">15.1</td> <td class=\"bsc\">52.6</td> <td class=\"pop\">208,453</td> </tr> <tr id=\"city_52\"> <td class=\"city\"><a href=\"/LA/New_Orleans\">New Orleans</a></td> <td class=\"state\">LA</td> <td class=\"score\">58.0</td> <td class=\"tsc\">43.9</td> <td class=\"bsc\">65.7</td> <td class=\"pop\">343,829</td> </tr> <tr id=\"city_85\"> <td class=\"city\"><a href=\"/LA/Baton_Rouge\">Baton Rouge</a></td> <td class=\"state\">LA</td> <td class=\"score\">39.1</td> <td class=\"tsc\">--</td> <td class=\"bsc\">44.3</td> <td class=\"pop\">229,493</td> </tr> <tr id=\"city_11\"> <td class=\"city\"><a href=\"/FL/Jacksonville\">Jacksonville</a></td> <td class=\"state\">FL</td> <td class=\"score\">25.6</td> <td class=\"tsc\">20.8</td> <td class=\"bsc\">40.5</td> <td class=\"pop\">821,784</td> </tr> <tr id=\"city_44\"> <td class=\"city\"><a href=\"/FL/Miami\">Miami</a></td> <td class=\"state\">FL</td> <td class=\"score\">76.6</td> <td class=\"tsc\">57.0</td> <td class=\"bsc\">64.0</td> <td class=\"pop\">399,457</td> </tr> <tr id=\"city_55\"> <td class=\"city\"><a href=\"/FL/Tampa\">Tampa</a></td> <td class=\"state\">FL</td> <td class=\"score\">49.5</td> <td class=\"tsc\">31.3</td> <td class=\"bsc\">55.2</td> <td class=\"pop\">335,709</td> </tr> <tr id=\"city_76\"> <td class=\"city\"><a href=\"/FL/St._Petersburg\">St. Petersburg</a></td> <td class=\"state\">FL</td> <td class=\"score\">43.0</td> <td class=\"tsc\">33.5</td> <td class=\"bsc\">58.5</td> <td class=\"pop\">244,769</td> </tr> <tr id=\"city_79\"> <td class=\"city\"><a href=\"/FL/Orlando\">Orlando</a></td> <td class=\"state\">FL</td> <td class=\"score\">41.1</td> <td class=\"tsc\">32.7</td> <td class=\"bsc\">56.8</td> <td class=\"pop\">238,300</td> </tr> <tr id=\"city_90\"> <td class=\"city\"><a href=\"/FL/Hialeah\">Hialeah</a></td> <td class=\"state\">FL</td> <td class=\"score\">67.9</td> <td class=\"tsc\">39.0</td> <td class=\"bsc\">50.6</td> <td class=\"pop\">224,669</td> </tr> <tr id=\"city_37\"> <td class=\"city\"><a href=\"/MO/Kansas_City\">Kansas City</a></td> <td class=\"state\">MO</td> <td class=\"score\">35.3</td> <td class=\"tsc\">25.5</td> <td class=\"bsc\">35.0</td> <td class=\"pop\">459,787</td> </tr> <tr id=\"city_58\"> <td class=\"city\"><a href=\"/MO/St._Louis\">St. Louis</a></td> <td class=\"state\">MO</td> <td class=\"score\">65.7</td> <td class=\"tsc\">42.6</td> <td class=\"bsc\">57.7</td> <td class=\"pop\">319,294</td> </tr> <tr id=\"city_40\"> <td class=\"city\"><a href=\"/GA/Atlanta\">Atlanta</a></td> <td class=\"state\">GA</td> <td class=\"score\">47.7</td> <td class=\"tsc\">43.7</td> <td class=\"bsc\">41.7</td> <td class=\"pop\">420,003</td> </tr> <tr id=\"city_39\"> <td class=\"city\"><a href=\"/VA/Virginia_Beach\">Virginia Beach</a></td> <td class=\"state\">VA</td> <td class=\"score\">33.1</td> <td class=\"tsc\">20.7</td> <td class=\"bsc\">41.7</td> <td class=\"pop\">437,994</td> </tr> <tr id=\"city_78\"> <td class=\"city\"><a href=\"/VA/Norfolk\">Norfolk</a></td> <td class=\"state\">VA</td> <td class=\"score\">45.8</td> <td class=\"tsc\">35.7</td> <td class=\"bsc\">46.9</td> <td class=\"pop\">242,803</td> </tr> <tr id=\"city_92\"> <td class=\"city\"><a href=\"/VA/Chesapeake\">Chesapeake</a></td> <td class=\"state\">VA</td> <td class=\"score\">21.3</td> <td class=\"tsc\">13.9</td> <td class=\"bsc\">34.7</td> <td class=\"pop\">222,209</td> </tr> <tr id=\"city_103\"> <td class=\"city\"><a href=\"/VA/Arlington\">Arlington</a></td> <td class=\"state\">VA</td> <td class=\"score\">71.2</td> <td class=\"tsc\">58.6</td> <td class=\"bsc\">72.3</td> <td class=\"pop\">207,627</td> </tr> <tr id=\"city_106\"> <td class=\"city\"><a href=\"/VA/Richmond\">Richmond</a></td> <td class=\"state\">VA</td> <td class=\"score\">50.9</td> <td class=\"tsc\">--</td> <td class=\"bsc\">50.8</td> <td class=\"pop\">204,214</td> </tr> <tr id=\"city_21\"> <td class=\"city\"><a href=\"/MD/Baltimore\">Baltimore</a></td> <td class=\"state\">MD</td> <td class=\"score\">64.3</td> <td class=\"tsc\">53.2</td> <td class=\"bsc\">53.4</td> <td class=\"pop\">620,961</td> </tr> <tr id=\"city_22\"> <td class=\"city\"><a href=\"/MA/Boston\">Boston</a></td> <td class=\"state\">MA</td> <td class=\"score\">82.8</td> <td class=\"tsc\">72.4</td> <td class=\"bsc\">69.4</td> <td class=\"pop\">617,594</td> </tr> <tr id=\"city_15\"> <td class=\"city\"><a href=\"/OH/Columbus\">Columbus</a></td> <td class=\"state\">OH</td> <td class=\"score\">41.2</td> <td class=\"tsc\">30.2</td> <td class=\"bsc\">47.7</td> <td class=\"pop\">787,033</td> </tr> <tr id=\"city_45\"> <td class=\"city\"><a href=\"/OH/Cleveland\">Cleveland</a></td> <td class=\"state\">OH</td> <td class=\"score\">57.1</td> <td class=\"tsc\">43.9</td> <td class=\"bsc\">52.3</td> <td class=\"pop\">396,815</td> </tr> <tr id=\"city_62\"> <td class=\"city\"><a href=\"/OH/Cincinnati\">Cincinnati</a></td> <td class=\"state\">OH</td> <td class=\"score\">49.1</td> <td class=\"tsc\">44.1</td> <td class=\"bsc\">35.6</td> <td class=\"pop\">296,943</td> </tr> <tr id=\"city_66\"> <td class=\"city\"><a href=\"/OH/Toledo\">Toledo</a></td> <td class=\"state\">OH</td> <td class=\"score\">46.4</td> <td class=\"tsc\">--</td> <td class=\"bsc\">45.6</td> <td class=\"pop\">287,208</td> </tr> <tr id=\"city_4\"> <td class=\"city\"><a href=\"/TX/Houston\">Houston</a></td> <td class=\"state\">TX</td> <td class=\"score\">47.5</td> <td class=\"tsc\">36.2</td> <td class=\"bsc\">48.6</td> <td class=\"pop\">2,099,451</td> </tr> <tr id=\"city_7\"> <td class=\"city\"><a href=\"/TX/San_Antonio\">San Antonio</a></td> <td class=\"state\">TX</td> <td class=\"score\">36.9</td> <td class=\"tsc\">30.9</td> <td class=\"bsc\">44.5</td> <td class=\"pop\">1,327,407</td> </tr> <tr id=\"city_9\"> <td class=\"city\"><a href=\"/TX/Dallas\">Dallas</a></td> <td class=\"state\">TX</td> <td class=\"score\">46.0</td> <td class=\"tsc\">38.9</td> <td class=\"bsc\">49.3</td> <td class=\"pop\">1,197,816</td> </tr> <tr id=\"city_14\"> <td class=\"city\"><a href=\"/TX/Austin\">Austin</a></td> <td class=\"state\">TX</td> <td class=\"score\">41.7</td> <td class=\"tsc\">34.8</td> <td class=\"bsc\">54.0</td> <td class=\"pop\">790,390</td> </tr> <tr id=\"city_16\"> <td class=\"city\"><a href=\"/TX/Fort_Worth\">Fort Worth</a></td> <td class=\"state\">TX</td> <td class=\"score\">34.9</td> <td class=\"tsc\">21.6</td> <td class=\"bsc\">38.6</td> <td class=\"pop\">741,206</td> </tr> <tr id=\"city_19\"> <td class=\"city\"><a href=\"/TX/El_Paso\">El Paso</a></td> <td class=\"state\">TX</td> <td class=\"score\">40.4</td> <td class=\"tsc\">28.0</td> <td class=\"bsc\">42.0</td> <td class=\"pop\">649,121</td> </tr> <tr id=\"city_50\"> <td class=\"city\"><a href=\"/TX/Arlington\">Arlington</a></td> <td class=\"state\">TX</td> <td class=\"score\">38.1</td> <td class=\"tsc\">0.3</td> <td class=\"bsc\">39.5</td> <td class=\"pop\">365,438</td> </tr> <tr id=\"city_60\"> <td class=\"city\"><a href=\"/TX/Corpus_Christi\">Corpus Christi</a></td> <td class=\"state\">TX</td> <td class=\"score\">40.3</td> <td class=\"tsc\">26.6</td> <td class=\"bsc\">42.1</td> <td class=\"pop\">305,215</td> </tr> <tr id=\"city_71\"> <td class=\"city\"><a href=\"/TX/Plano\">Plano</a></td> <td class=\"state\">TX</td> <td class=\"score\">40.5</td> <td class=\"tsc\">14.8</td> <td class=\"bsc\">52.0</td> <td class=\"pop\">259,841</td> </tr> <tr id=\"city_81\"> <td class=\"city\"><a href=\"/TX/Laredo\">Laredo</a></td> <td class=\"state\">TX</td> <td class=\"score\">36.8</td> <td class=\"tsc\">--</td> <td class=\"bsc\">39.6</td> <td class=\"pop\">236,091</td> </tr> <tr id=\"city_84\"> <td class=\"city\"><a href=\"/TX/Lubbock\">Lubbock</a></td> <td class=\"state\">TX</td> <td class=\"score\">39.0</td> <td class=\"tsc\">20.6</td> <td class=\"bsc\">42.5</td> <td class=\"pop\">229,573</td> </tr> <tr id=\"city_87\"> <td class=\"city\"><a href=\"/TX/Garland\">Garland</a></td> <td class=\"state\">TX</td> <td class=\"score\">40.2</td> <td class=\"tsc\">29.2</td> <td class=\"bsc\">40.6</td> <td class=\"pop\">226,876</td> </tr> <tr id=\"city_95\"> <td class=\"city\"><a href=\"/TX/Irving\">Irving</a></td> <td class=\"state\">TX</td> <td class=\"score\">44.8</td> <td class=\"tsc\">28.7</td> <td class=\"bsc\">42.0</td> <td class=\"pop\">216,290</td> </tr> <tr id=\"city_31\"> <td class=\"city\"><a href=\"/OK/Oklahoma_City\">Oklahoma City</a></td> <td class=\"state\">OK</td> <td class=\"score\">34.1</td> <td class=\"tsc\">16.9</td> <td class=\"bsc\">40.2</td> <td class=\"pop\">579,999</td> </tr> <tr id=\"city_46\"> <td class=\"city\"><a href=\"/OK/Tulsa\">Tulsa</a></td> <td class=\"state\">OK</td> <td class=\"score\">39.0</td> <td class=\"tsc\">22.7</td> <td class=\"bsc\">47.2</td> <td class=\"pop\">391,906</td> </tr> <tr id=\"city_98\"> <td class=\"city\"><a href=\"/AL/Birmingham\">Birmingham</a></td> <td class=\"state\">AL</td> <td class=\"score\">33.2</td> <td class=\"tsc\">21.5</td> <td class=\"bsc\">30.7</td> <td class=\"pop\">212,237</td> </tr> <tr id=\"city_104\"> <td class=\"city\"><a href=\"/AL/Montgomery\">Montgomery</a></td> <td class=\"state\">AL</td> <td class=\"score\">25.8</td> <td class=\"tsc\">16.4</td> <td class=\"bsc\">32.9</td> <td class=\"pop\">205,764</td> </tr> <tr id=\"city_26\"> <td class=\"city\"><a href=\"/CO/Denver\">Denver</a></td> <td class=\"state\">CO</td> <td class=\"score\">61.2</td> <td class=\"tsc\">44.6</td> <td class=\"bsc\">71.8</td> <td class=\"pop\">600,158</td> </tr> <tr id=\"city_41\"> <td class=\"city\"><a href=\"/CO/Colorado_Springs\">Colorado Springs</a></td> <td class=\"state\">CO</td> <td class=\"score\">36.1</td> <td class=\"tsc\">18.8</td> <td class=\"bsc\">44.7</td> <td class=\"pop\">416,427</td> </tr> <tr id=\"city_56\"> <td class=\"city\"><a href=\"/CO/Aurora\">Aurora</a></td> <td class=\"state\">CO</td> <td class=\"score\">42.5</td> <td class=\"tsc\">35.2</td> <td class=\"bsc\">53.3</td> <td class=\"pop\">325,078</td> </tr> <tr id=\"city_12\"> <td class=\"city\"><a href=\"/IN/Indianapolis\">Indianapolis</a></td> <td class=\"state\">IN</td> <td class=\"score\">31.0</td> <td class=\"tsc\">24.9</td> <td class=\"bsc\">42.8</td> <td class=\"pop\">820,445</td> </tr> <tr id=\"city_74\"> <td class=\"city\"><a href=\"/IN/Fort_Wayne\">Fort Wayne</a></td> <td class=\"state\">IN</td> <td class=\"score\">31.7</td> <td class=\"tsc\">21.7</td> <td class=\"bsc\">41.0</td> <td class=\"pop\">253,691</td> </tr> <tr id=\"city_17\"> <td class=\"city\"><a href=\"/NC/Charlotte\">Charlotte</a></td> <td class=\"state\">NC</td> <td class=\"score\">26.4</td> <td class=\"tsc\">27.4</td> <td class=\"bsc\">31.3</td> <td class=\"pop\">731,424</td> </tr> <tr id=\"city_43\"> <td class=\"city\"><a href=\"/NC/Raleigh\">Raleigh</a></td> <td class=\"state\">NC</td> <td class=\"score\">31.3</td> <td class=\"tsc\">29.4</td> <td class=\"bsc\">39.3</td> <td class=\"pop\">403,892</td> </tr> <tr id=\"city_69\"> <td class=\"city\"><a href=\"/NC/Greensboro\">Greensboro</a></td> <td class=\"state\">NC</td> <td class=\"score\">29.4</td> <td class=\"tsc\">--</td> <td class=\"bsc\">32.2</td> <td class=\"pop\">269,666</td> </tr> <tr id=\"city_83\"> <td class=\"city\"><a href=\"/NC/Winston-Salem\">Winston-Salem</a></td> <td class=\"state\">NC</td> <td class=\"score\">22.5</td> <td class=\"tsc\">--</td> <td class=\"bsc\">29.2</td> <td class=\"pop\">229,617</td> </tr> <tr id=\"city_86\"> <td class=\"city\"><a href=\"/NC/Durham\">Durham</a></td> <td class=\"state\">NC</td> <td class=\"score\">30.3</td> <td class=\"tsc\">27.5</td> <td class=\"bsc\">37.6</td> <td class=\"pop\">228,330</td> </tr> <tr id=\"city_109\"> <td class=\"city\"><a href=\"/NC/Fayetteville\">Fayetteville</a></td> <td class=\"state\">NC</td> <td class=\"score\">21.4</td> <td class=\"tsc\">--</td> <td class=\"bsc\">29.7</td> <td class=\"pop\">200,564</td> </tr> <tr id=\"city_28\"> <td class=\"city\"><a href=\"/WI/Milwaukee\">Milwaukee</a></td> <td class=\"state\">WI</td> <td class=\"score\">61.5</td> <td class=\"tsc\">48.7</td> <td class=\"bsc\">57.6</td> <td class=\"pop\">594,833</td> </tr> <tr id=\"city_82\"> <td class=\"city\"><a href=\"/WI/Madison\">Madison</a></td> <td class=\"state\">WI</td> <td class=\"score\">49.7</td> <td class=\"tsc\">34.9</td> <td class=\"bsc\">65.5</td> <td class=\"pop\">233,209</td> </tr> <tr id=\"city_68\"> <td class=\"city\"><a href=\"/NJ/Newark\">Newark</a></td> <td class=\"state\">NJ</td> <td class=\"score\">75.9</td> <td class=\"tsc\">65.0</td> <td class=\"bsc\">51.1</td> <td class=\"pop\">277,140</td> </tr> <tr id=\"city_75\"> <td class=\"city\"><a href=\"/NJ/Jersey_City\">Jersey City</a></td> <td class=\"state\">NJ</td> <td class=\"score\">86.6</td> <td class=\"tsc\">70.5</td> <td class=\"bsc\">63.9</td> <td class=\"pop\">247,597</td> </tr> <tr id=\"city_48\"> <td class=\"city\"><a href=\"/MN/Minneapolis\">Minneapolis</a></td> <td class=\"state\">MN</td> <td class=\"score\">71.4</td> <td class=\"tsc\">55.0</td> <td class=\"bsc\">83.5</td> <td class=\"pop\">382,578</td> </tr> <tr id=\"city_67\"> <td class=\"city\"><a href=\"/MN/St._Paul\">St. Paul</a></td> <td class=\"state\">MN</td> <td class=\"score\">60.4</td> <td class=\"tsc\">46.4</td> <td class=\"bsc\">64.0</td> <td class=\"pop\">285,068</td> </tr> <tr id=\"city_20\"> <td class=\"city\"><a href=\"/TN/Memphis\">Memphis</a></td> <td class=\"state\">TN</td> <td class=\"score\">35.0</td> <td class=\"tsc\">22.2</td> <td class=\"bsc\">41.2</td> <td class=\"pop\">646,889</td> </tr> <tr id=\"city_25\"> <td class=\"city\"><a href=\"/TN/Nashville-Davidson\">Nashville-Davidson</a></td> <td class=\"state\">TN</td> <td class=\"score\">28.8</td> <td class=\"tsc\">21.7</td> <td class=\"bsc\">29.7</td> <td class=\"pop\">601,222</td> </tr> <tr id=\"city_107\"> <td class=\"city\"><a href=\"/IA/Des_Moines\">Des Moines</a></td> <td class=\"state\">IA</td> <td class=\"score\">45.0</td> <td class=\"tsc\">30.1</td> <td class=\"bsc\">39.4</td> <td class=\"pop\">203,433</td> </tr> <tr id=\"city_27\"> <td class=\"city\"><a href=\"/KY/Louisville-Jefferson\">Louisville-Jefferson</a></td> <td class=\"state\">KY</td> <td class=\"score\">34.3</td> <td class=\"tsc\">27.3</td> <td class=\"bsc\">43.3</td> <td class=\"pop\">597,337</td> </tr> <tr id=\"city_63\"> <td class=\"city\"><a href=\"/KY/Lexington-Fayette\">Lexington-Fayette</a></td> <td class=\"state\">KY</td> <td class=\"score\">34.3</td> <td class=\"tsc\">26.6</td> <td class=\"bsc\">45.7</td> <td class=\"pop\">295,803</td> </tr> <tr id=\"city_53\"> <td class=\"city\"><a href=\"/HI/Honolulu\">Honolulu</a></td> <td class=\"state\">HI</td> <td class=\"score\">65.7</td> <td class=\"tsc\">56.3</td> <td class=\"bsc\">51.0</td> <td class=\"pop\">337,256</td> </tr> <tr id=\"city_30\"> <td class=\"city\"><a href=\"/NV/Las_Vegas\">Las Vegas</a></td> <td class=\"state\">NV</td> <td class=\"score\">42.0</td> <td class=\"tsc\">35.5</td> <td class=\"bsc\">46.5</td> <td class=\"pop\">583,756</td> </tr> <tr id=\"city_73\"> <td class=\"city\"><a href=\"/NV/Henderson\">Henderson</a></td> <td class=\"state\">NV</td> <td class=\"score\">30.0</td> <td class=\"tsc\">24.6</td> <td class=\"bsc\">43.5</td> <td class=\"pop\">257,729</td> </tr> <tr id=\"city_89\"> <td class=\"city\"><a href=\"/NV/Reno\">Reno</a></td> <td class=\"state\">NV</td> <td class=\"score\">40.2</td> <td class=\"tsc\">24.2</td> <td class=\"bsc\">52.0</td> <td class=\"pop\">225,221</td> </tr> <tr id=\"city_91\"> <td class=\"city\"><a href=\"/NV/Paradise\">Paradise</a></td> <td class=\"state\">NV</td> <td class=\"score\">50.1</td> <td class=\"tsc\">38.1</td> <td class=\"bsc\">50.1</td> <td class=\"pop\">223,167</td> </tr> <tr id=\"city_94\"> <td class=\"city\"><a href=\"/NV/North_Las_Vegas\">North Las Vegas</a></td> <td class=\"state\">NV</td> <td class=\"score\">33.7</td> <td class=\"tsc\">33.3</td> <td class=\"bsc\">48.5</td> <td class=\"pop\">216,961</td> </tr> <tr id=\"city_5\"> <td class=\"city\"><a href=\"/PA/Philadelphia\">Philadelphia</a></td> <td class=\"state\">PA</td> <td class=\"score\">74.8</td> <td class=\"tsc\">67.0</td> <td class=\"bsc\">66.7</td> <td class=\"pop\">1,526,006</td> </tr> <tr id=\"city_59\"> <td class=\"city\"><a href=\"/PA/Pittsburgh\">Pittsburgh</a></td> <td class=\"state\">PA</td> <td class=\"score\">62.4</td> <td class=\"tsc\">55.2</td> <td class=\"bsc\">54.9</td> <td class=\"pop\">305,704</td> </tr> <tr id=\"city_42\"> <td class=\"city\"><a href=\"/NE/Omaha\">Omaha</a></td> <td class=\"state\">NE</td> <td class=\"score\">48.2</td> <td class=\"tsc\">24.0</td> <td class=\"bsc\">41.7</td> <td class=\"pop\">408,958</td> </tr> <tr id=\"city_72\"> <td class=\"city\"><a href=\"/NE/Lincoln\">Lincoln</a></td> <td class=\"state\">NE</td> <td class=\"score\">44.1</td> <td class=\"tsc\">24.3</td> <td class=\"bsc\">58.5</td> <td class=\"pop\">258,379</td> </tr> <tr id=\"city_49\"> <td class=\"city\"><a href=\"/KS/Wichita\">Wichita</a></td> <td class=\"state\">KS</td> <td class=\"score\">34.8</td> <td class=\"tsc\">19.7</td> <td class=\"bsc\">43.9</td> <td class=\"pop\">382,368</td> </tr> <tr id=\"city_64\"> <td class=\"city\"><a href=\"/AK/Anchorage\">Anchorage</a></td> <td class=\"state\">AK</td> <td class=\"score\">30.9</td> <td class=\"tsc\">21.6</td> <td class=\"bsc\">51.8</td> <td class=\"pop\">291,826</td> </tr> <tr id=\"city_105\"> <td class=\"city\"><a href=\"/ID/Boise_City\">Boise City</a></td> <td class=\"state\">ID</td> <td class=\"score\">38.5</td> <td class=\"tsc\">22.6</td> <td class=\"bsc\">62.3</td> <td class=\"pop\">205,671</td> </tr> <tr id=\"city_32\"> <td class=\"city\"><a href=\"/NM/Albuquerque\">Albuquerque</a></td> <td class=\"state\">NM</td> <td class=\"score\">42.6</td> <td class=\"tsc\">28.6</td> <td class=\"bsc\">60.9</td> <td class=\"pop\">545,852</td> </tr> <tr id=\"city_24\"> <td class=\"city\"><a href=\"/DC/Washington_D.C.\">Washington D.C.</a></td> <td class=\"state\">DC</td> <td class=\"score\">76.7</td> <td class=\"tsc\">68.7</td> <td class=\"bsc\">69.5</td> <td class=\"pop\">601,723</td> </tr> </tbody>]"
      ]
     },
     "execution_count": 4,
     "metadata": {},
     "output_type": "execute_result"
    }
   ],
   "source": [
    "cities=body.select(\"tbody\")\n",
    "cities"
   ]
  },
  {
   "cell_type": "code",
   "execution_count": 5,
   "id": "c4eb5d5a",
   "metadata": {},
   "outputs": [],
   "source": [
    "state_list=[]\n",
    "\n",
    "for city in cities:\n",
    "    for i in range(130):\n",
    "        tr_element=city(\"tr\")[i]\n",
    "        td_element=tr_element(\"td\")[1].string\n",
    "        state_list.append(td_element)\n",
    "        \n",
    "state_list=state_list[22:]"
   ]
  },
  {
   "cell_type": "code",
   "execution_count": 6,
   "id": "c995a50a",
   "metadata": {},
   "outputs": [],
   "source": [
    "city_list=[]\n",
    "\n",
    "for city in cities:\n",
    "    for i in range(130):\n",
    "        tr_element=city(\"tr\")[i]\n",
    "        td_element=tr_element(\"td\")[0].string\n",
    "        city_list.append(td_element)\n",
    "        \n",
    "city_list=city_list[22:]"
   ]
  },
  {
   "cell_type": "code",
   "execution_count": 7,
   "id": "2cbfe809",
   "metadata": {},
   "outputs": [],
   "source": [
    "walk_list=[]\n",
    "\n",
    "for city in cities:\n",
    "    for i in range(130):\n",
    "        tr_element=city(\"tr\")[i]\n",
    "        td_element=tr_element(\"td\")[2].string\n",
    "        walk_list.append(td_element)\n",
    "        \n",
    "walk_list=walk_list[22:]"
   ]
  },
  {
   "cell_type": "markdown",
   "id": "05c3c646",
   "metadata": {},
   "source": [
    "## Pandas Dataframe"
   ]
  },
  {
   "cell_type": "code",
   "execution_count": 36,
   "id": "10186c88",
   "metadata": {
    "scrolled": true
   },
   "outputs": [
    {
     "data": {
      "text/html": [
       "<div>\n",
       "<style scoped>\n",
       "    .dataframe tbody tr th:only-of-type {\n",
       "        vertical-align: middle;\n",
       "    }\n",
       "\n",
       "    .dataframe tbody tr th {\n",
       "        vertical-align: top;\n",
       "    }\n",
       "\n",
       "    .dataframe thead th {\n",
       "        text-align: right;\n",
       "    }\n",
       "</style>\n",
       "<table border=\"1\" class=\"dataframe\">\n",
       "  <thead>\n",
       "    <tr style=\"text-align: right;\">\n",
       "      <th></th>\n",
       "      <th>City</th>\n",
       "      <th>State</th>\n",
       "      <th>Walk Score</th>\n",
       "    </tr>\n",
       "  </thead>\n",
       "  <tbody>\n",
       "    <tr>\n",
       "      <th>3</th>\n",
       "      <td>San Francisco</td>\n",
       "      <td>CA</td>\n",
       "      <td>88.7</td>\n",
       "    </tr>\n",
       "    <tr>\n",
       "      <th>22</th>\n",
       "      <td>New York</td>\n",
       "      <td>NY</td>\n",
       "      <td>88.0</td>\n",
       "    </tr>\n",
       "    <tr>\n",
       "      <th>85</th>\n",
       "      <td>Jersey City</td>\n",
       "      <td>NJ</td>\n",
       "      <td>86.6</td>\n",
       "    </tr>\n",
       "    <tr>\n",
       "      <th>49</th>\n",
       "      <td>Boston</td>\n",
       "      <td>MA</td>\n",
       "      <td>82.8</td>\n",
       "    </tr>\n",
       "    <tr>\n",
       "      <th>18</th>\n",
       "      <td>Chicago</td>\n",
       "      <td>IL</td>\n",
       "      <td>77.2</td>\n",
       "    </tr>\n",
       "    <tr>\n",
       "      <th>...</th>\n",
       "      <td>...</td>\n",
       "      <td>...</td>\n",
       "      <td>...</td>\n",
       "    </tr>\n",
       "    <tr>\n",
       "      <th>70</th>\n",
       "      <td>Montgomery</td>\n",
       "      <td>AL</td>\n",
       "      <td>25.8</td>\n",
       "    </tr>\n",
       "    <tr>\n",
       "      <th>34</th>\n",
       "      <td>Jacksonville</td>\n",
       "      <td>FL</td>\n",
       "      <td>25.6</td>\n",
       "    </tr>\n",
       "    <tr>\n",
       "      <th>79</th>\n",
       "      <td>Winston-Salem</td>\n",
       "      <td>NC</td>\n",
       "      <td>22.5</td>\n",
       "    </tr>\n",
       "    <tr>\n",
       "      <th>81</th>\n",
       "      <td>Fayetteville</td>\n",
       "      <td>NC</td>\n",
       "      <td>21.4</td>\n",
       "    </tr>\n",
       "    <tr>\n",
       "      <th>45</th>\n",
       "      <td>Chesapeake</td>\n",
       "      <td>VA</td>\n",
       "      <td>21.3</td>\n",
       "    </tr>\n",
       "  </tbody>\n",
       "</table>\n",
       "<p>108 rows × 3 columns</p>\n",
       "</div>"
      ],
      "text/plain": [
       "             City State  Walk Score\n",
       "3   San Francisco    CA        88.7\n",
       "22       New York    NY        88.0\n",
       "85    Jersey City    NJ        86.6\n",
       "49         Boston    MA        82.8\n",
       "18        Chicago    IL        77.2\n",
       "..            ...   ...         ...\n",
       "70     Montgomery    AL        25.8\n",
       "34   Jacksonville    FL        25.6\n",
       "79  Winston-Salem    NC        22.5\n",
       "81   Fayetteville    NC        21.4\n",
       "45     Chesapeake    VA        21.3\n",
       "\n",
       "[108 rows x 3 columns]"
      ]
     },
     "execution_count": 36,
     "metadata": {},
     "output_type": "execute_result"
    }
   ],
   "source": [
    "walk_scores=pd.DataFrame(\n",
    "    {'City': city_list,\n",
    "     'State': state_list,\n",
    "     'Walk Score': walk_list\n",
    "    })\n",
    "walk_scores['Walk Score']=walk_scores['Walk Score'].astype(float)\n",
    "walk_scores.sort_values(by=['Walk Score'], ascending=False)"
   ]
  },
  {
   "cell_type": "markdown",
   "id": "342add3e",
   "metadata": {},
   "source": [
    "## By State"
   ]
  },
  {
   "cell_type": "code",
   "execution_count": 10,
   "id": "afe65cca",
   "metadata": {},
   "outputs": [
    {
     "data": {
      "text/plain": [
       "[('CA', 17),\n",
       " ('TX', 13),\n",
       " ('AZ', 7),\n",
       " ('FL', 6),\n",
       " ('NC', 6),\n",
       " ('VA', 5),\n",
       " ('NV', 5),\n",
       " ('OH', 4),\n",
       " ('NY', 3),\n",
       " ('CO', 3),\n",
       " ('WA', 2),\n",
       " ('LA', 2),\n",
       " ('MO', 2),\n",
       " ('OK', 2),\n",
       " ('AL', 2),\n",
       " ('IN', 2),\n",
       " ('WI', 2),\n",
       " ('NJ', 2),\n",
       " ('MN', 2),\n",
       " ('TN', 2),\n",
       " ('KY', 2),\n",
       " ('PA', 2),\n",
       " ('NE', 2),\n",
       " ('MI', 1),\n",
       " ('IL', 1),\n",
       " ('OR', 1),\n",
       " ('GA', 1),\n",
       " ('MD', 1),\n",
       " ('MA', 1),\n",
       " ('IA', 1),\n",
       " ('HI', 1),\n",
       " ('KS', 1),\n",
       " ('AK', 1),\n",
       " ('ID', 1),\n",
       " ('NM', 1),\n",
       " ('DC', 1)]"
      ]
     },
     "execution_count": 10,
     "metadata": {},
     "output_type": "execute_result"
    }
   ],
   "source": [
    "by_state=Counter(walk_scores['State']).most_common()\n",
    "by_state"
   ]
  },
  {
   "cell_type": "code",
   "execution_count": 11,
   "id": "5d24d608",
   "metadata": {},
   "outputs": [],
   "source": [
    "avg_score=[]\n",
    "avg_state_list=[]\n",
    "for i in range(len(by_state)):\n",
    "    state=by_state[i][0]\n",
    "    state_mean=np.mean(list(walk_scores[walk_scores['State']==state]['Walk Score']))\n",
    "    avg_score.append(state_mean)\n",
    "    avg_state_list.append(state)\n"
   ]
  },
  {
   "cell_type": "code",
   "execution_count": 37,
   "id": "79e44f17",
   "metadata": {},
   "outputs": [
    {
     "data": {
      "text/html": [
       "<div>\n",
       "<style scoped>\n",
       "    .dataframe tbody tr th:only-of-type {\n",
       "        vertical-align: middle;\n",
       "    }\n",
       "\n",
       "    .dataframe tbody tr th {\n",
       "        vertical-align: top;\n",
       "    }\n",
       "\n",
       "    .dataframe thead th {\n",
       "        text-align: right;\n",
       "    }\n",
       "</style>\n",
       "<table border=\"1\" class=\"dataframe\">\n",
       "  <thead>\n",
       "    <tr style=\"text-align: right;\">\n",
       "      <th></th>\n",
       "      <th>State</th>\n",
       "      <th>Walk Score</th>\n",
       "    </tr>\n",
       "  </thead>\n",
       "  <tbody>\n",
       "    <tr>\n",
       "      <th>28</th>\n",
       "      <td>MA</td>\n",
       "      <td>82.800000</td>\n",
       "    </tr>\n",
       "    <tr>\n",
       "      <th>17</th>\n",
       "      <td>NJ</td>\n",
       "      <td>81.250000</td>\n",
       "    </tr>\n",
       "    <tr>\n",
       "      <th>24</th>\n",
       "      <td>IL</td>\n",
       "      <td>77.200000</td>\n",
       "    </tr>\n",
       "    <tr>\n",
       "      <th>35</th>\n",
       "      <td>DC</td>\n",
       "      <td>76.700000</td>\n",
       "    </tr>\n",
       "    <tr>\n",
       "      <th>8</th>\n",
       "      <td>NY</td>\n",
       "      <td>71.766667</td>\n",
       "    </tr>\n",
       "    <tr>\n",
       "      <th>21</th>\n",
       "      <td>PA</td>\n",
       "      <td>68.600000</td>\n",
       "    </tr>\n",
       "    <tr>\n",
       "      <th>25</th>\n",
       "      <td>OR</td>\n",
       "      <td>67.300000</td>\n",
       "    </tr>\n",
       "    <tr>\n",
       "      <th>18</th>\n",
       "      <td>MN</td>\n",
       "      <td>65.900000</td>\n",
       "    </tr>\n",
       "    <tr>\n",
       "      <th>30</th>\n",
       "      <td>HI</td>\n",
       "      <td>65.700000</td>\n",
       "    </tr>\n",
       "    <tr>\n",
       "      <th>27</th>\n",
       "      <td>MD</td>\n",
       "      <td>64.300000</td>\n",
       "    </tr>\n",
       "    <tr>\n",
       "      <th>10</th>\n",
       "      <td>WA</td>\n",
       "      <td>61.800000</td>\n",
       "    </tr>\n",
       "    <tr>\n",
       "      <th>16</th>\n",
       "      <td>WI</td>\n",
       "      <td>55.600000</td>\n",
       "    </tr>\n",
       "    <tr>\n",
       "      <th>0</th>\n",
       "      <td>CA</td>\n",
       "      <td>55.029412</td>\n",
       "    </tr>\n",
       "    <tr>\n",
       "      <th>23</th>\n",
       "      <td>MI</td>\n",
       "      <td>51.100000</td>\n",
       "    </tr>\n",
       "    <tr>\n",
       "      <th>3</th>\n",
       "      <td>FL</td>\n",
       "      <td>50.616667</td>\n",
       "    </tr>\n",
       "    <tr>\n",
       "      <th>12</th>\n",
       "      <td>MO</td>\n",
       "      <td>50.500000</td>\n",
       "    </tr>\n",
       "    <tr>\n",
       "      <th>11</th>\n",
       "      <td>LA</td>\n",
       "      <td>48.550000</td>\n",
       "    </tr>\n",
       "    <tr>\n",
       "      <th>7</th>\n",
       "      <td>OH</td>\n",
       "      <td>48.450000</td>\n",
       "    </tr>\n",
       "    <tr>\n",
       "      <th>26</th>\n",
       "      <td>GA</td>\n",
       "      <td>47.700000</td>\n",
       "    </tr>\n",
       "    <tr>\n",
       "      <th>9</th>\n",
       "      <td>CO</td>\n",
       "      <td>46.600000</td>\n",
       "    </tr>\n",
       "    <tr>\n",
       "      <th>22</th>\n",
       "      <td>NE</td>\n",
       "      <td>46.150000</td>\n",
       "    </tr>\n",
       "    <tr>\n",
       "      <th>29</th>\n",
       "      <td>IA</td>\n",
       "      <td>45.000000</td>\n",
       "    </tr>\n",
       "    <tr>\n",
       "      <th>5</th>\n",
       "      <td>VA</td>\n",
       "      <td>44.460000</td>\n",
       "    </tr>\n",
       "    <tr>\n",
       "      <th>34</th>\n",
       "      <td>NM</td>\n",
       "      <td>42.600000</td>\n",
       "    </tr>\n",
       "    <tr>\n",
       "      <th>1</th>\n",
       "      <td>TX</td>\n",
       "      <td>40.546154</td>\n",
       "    </tr>\n",
       "    <tr>\n",
       "      <th>6</th>\n",
       "      <td>NV</td>\n",
       "      <td>39.200000</td>\n",
       "    </tr>\n",
       "    <tr>\n",
       "      <th>33</th>\n",
       "      <td>ID</td>\n",
       "      <td>38.500000</td>\n",
       "    </tr>\n",
       "    <tr>\n",
       "      <th>2</th>\n",
       "      <td>AZ</td>\n",
       "      <td>37.000000</td>\n",
       "    </tr>\n",
       "    <tr>\n",
       "      <th>13</th>\n",
       "      <td>OK</td>\n",
       "      <td>36.550000</td>\n",
       "    </tr>\n",
       "    <tr>\n",
       "      <th>31</th>\n",
       "      <td>KS</td>\n",
       "      <td>34.800000</td>\n",
       "    </tr>\n",
       "    <tr>\n",
       "      <th>20</th>\n",
       "      <td>KY</td>\n",
       "      <td>34.300000</td>\n",
       "    </tr>\n",
       "    <tr>\n",
       "      <th>19</th>\n",
       "      <td>TN</td>\n",
       "      <td>31.900000</td>\n",
       "    </tr>\n",
       "    <tr>\n",
       "      <th>15</th>\n",
       "      <td>IN</td>\n",
       "      <td>31.350000</td>\n",
       "    </tr>\n",
       "    <tr>\n",
       "      <th>32</th>\n",
       "      <td>AK</td>\n",
       "      <td>30.900000</td>\n",
       "    </tr>\n",
       "    <tr>\n",
       "      <th>14</th>\n",
       "      <td>AL</td>\n",
       "      <td>29.500000</td>\n",
       "    </tr>\n",
       "    <tr>\n",
       "      <th>4</th>\n",
       "      <td>NC</td>\n",
       "      <td>26.883333</td>\n",
       "    </tr>\n",
       "  </tbody>\n",
       "</table>\n",
       "</div>"
      ],
      "text/plain": [
       "   State  Walk Score\n",
       "28    MA   82.800000\n",
       "17    NJ   81.250000\n",
       "24    IL   77.200000\n",
       "35    DC   76.700000\n",
       "8     NY   71.766667\n",
       "21    PA   68.600000\n",
       "25    OR   67.300000\n",
       "18    MN   65.900000\n",
       "30    HI   65.700000\n",
       "27    MD   64.300000\n",
       "10    WA   61.800000\n",
       "16    WI   55.600000\n",
       "0     CA   55.029412\n",
       "23    MI   51.100000\n",
       "3     FL   50.616667\n",
       "12    MO   50.500000\n",
       "11    LA   48.550000\n",
       "7     OH   48.450000\n",
       "26    GA   47.700000\n",
       "9     CO   46.600000\n",
       "22    NE   46.150000\n",
       "29    IA   45.000000\n",
       "5     VA   44.460000\n",
       "34    NM   42.600000\n",
       "1     TX   40.546154\n",
       "6     NV   39.200000\n",
       "33    ID   38.500000\n",
       "2     AZ   37.000000\n",
       "13    OK   36.550000\n",
       "31    KS   34.800000\n",
       "20    KY   34.300000\n",
       "19    TN   31.900000\n",
       "15    IN   31.350000\n",
       "32    AK   30.900000\n",
       "14    AL   29.500000\n",
       "4     NC   26.883333"
      ]
     },
     "execution_count": 37,
     "metadata": {},
     "output_type": "execute_result"
    }
   ],
   "source": [
    "walk_scores=pd.DataFrame(\n",
    "    {\n",
    "     'State': avg_state_list,\n",
    "     'Walk Score': avg_score\n",
    "    })\n",
    "walk_scores.sort_values(by=['Walk Score'], ascending=False)"
   ]
  },
  {
   "cell_type": "markdown",
   "id": "0838ccd5",
   "metadata": {},
   "source": [
    "## Walk Score GeoMap "
   ]
  },
  {
   "cell_type": "markdown",
   "id": "adc4ae02",
   "metadata": {},
   "source": [
    "<img src=\"Walk_Score.png\" alt=\"source\" style=\"width: 800px;\"/>\n"
   ]
  },
  {
   "cell_type": "markdown",
   "id": "85e7f71c",
   "metadata": {},
   "source": [
    "## Obesity from 2020 CDC Study"
   ]
  },
  {
   "cell_type": "code",
   "execution_count": 13,
   "id": "4cf6eb00",
   "metadata": {},
   "outputs": [],
   "source": [
    "obesity=pd.read_csv('2020-overall.csv') \n",
    "obesity=obesity.drop('95% CI',axis=1)\n",
    "not_rep=['Montana','Utah',\n",
    "         'West Virginia','Wyoming','North Dakota',\n",
    "         'South Dakota', 'Arkansas', 'South Carolina',\n",
    "         'West Virgina', 'Delaware', 'Connecticut', 'Rhode Island',\n",
    "         'Vermont', 'Mississippi','New Hampshire', 'Maine', 'Guam','Puerto Rico']"
   ]
  },
  {
   "cell_type": "code",
   "execution_count": 14,
   "id": "447034c4",
   "metadata": {},
   "outputs": [],
   "source": [
    "obesity = obesity[~obesity.State.isin(not_rep)]\n"
   ]
  },
  {
   "cell_type": "code",
   "execution_count": 38,
   "id": "48fa7417",
   "metadata": {
    "scrolled": false
   },
   "outputs": [
    {
     "data": {
      "text/html": [
       "<div>\n",
       "<style scoped>\n",
       "    .dataframe tbody tr th:only-of-type {\n",
       "        vertical-align: middle;\n",
       "    }\n",
       "\n",
       "    .dataframe tbody tr th {\n",
       "        vertical-align: top;\n",
       "    }\n",
       "\n",
       "    .dataframe thead th {\n",
       "        text-align: right;\n",
       "    }\n",
       "</style>\n",
       "<table border=\"1\" class=\"dataframe\">\n",
       "  <thead>\n",
       "    <tr style=\"text-align: right;\">\n",
       "      <th></th>\n",
       "      <th>State</th>\n",
       "      <th>Prevalence</th>\n",
       "    </tr>\n",
       "  </thead>\n",
       "  <tbody>\n",
       "    <tr>\n",
       "      <th>0</th>\n",
       "      <td>Alabama</td>\n",
       "      <td>39.0</td>\n",
       "    </tr>\n",
       "    <tr>\n",
       "      <th>19</th>\n",
       "      <td>Louisiana</td>\n",
       "      <td>38.1</td>\n",
       "    </tr>\n",
       "    <tr>\n",
       "      <th>15</th>\n",
       "      <td>Indiana</td>\n",
       "      <td>36.8</td>\n",
       "    </tr>\n",
       "    <tr>\n",
       "      <th>18</th>\n",
       "      <td>Kentucky</td>\n",
       "      <td>36.6</td>\n",
       "    </tr>\n",
       "    <tr>\n",
       "      <th>16</th>\n",
       "      <td>Iowa</td>\n",
       "      <td>36.5</td>\n",
       "    </tr>\n",
       "    <tr>\n",
       "      <th>37</th>\n",
       "      <td>Oklahoma</td>\n",
       "      <td>36.4</td>\n",
       "    </tr>\n",
       "    <tr>\n",
       "      <th>45</th>\n",
       "      <td>Texas</td>\n",
       "      <td>35.8</td>\n",
       "    </tr>\n",
       "    <tr>\n",
       "      <th>44</th>\n",
       "      <td>Tennessee</td>\n",
       "      <td>35.6</td>\n",
       "    </tr>\n",
       "    <tr>\n",
       "      <th>36</th>\n",
       "      <td>Ohio</td>\n",
       "      <td>35.5</td>\n",
       "    </tr>\n",
       "    <tr>\n",
       "      <th>17</th>\n",
       "      <td>Kansas</td>\n",
       "      <td>35.3</td>\n",
       "    </tr>\n",
       "    <tr>\n",
       "      <th>23</th>\n",
       "      <td>Michigan</td>\n",
       "      <td>35.2</td>\n",
       "    </tr>\n",
       "    <tr>\n",
       "      <th>10</th>\n",
       "      <td>Georgia</td>\n",
       "      <td>34.3</td>\n",
       "    </tr>\n",
       "    <tr>\n",
       "      <th>26</th>\n",
       "      <td>Missouri</td>\n",
       "      <td>34.0</td>\n",
       "    </tr>\n",
       "    <tr>\n",
       "      <th>28</th>\n",
       "      <td>Nebraska</td>\n",
       "      <td>34.0</td>\n",
       "    </tr>\n",
       "    <tr>\n",
       "      <th>34</th>\n",
       "      <td>North Carolina</td>\n",
       "      <td>33.6</td>\n",
       "    </tr>\n",
       "    <tr>\n",
       "      <th>14</th>\n",
       "      <td>Illinois</td>\n",
       "      <td>32.4</td>\n",
       "    </tr>\n",
       "    <tr>\n",
       "      <th>51</th>\n",
       "      <td>Wisconsin</td>\n",
       "      <td>32.3</td>\n",
       "    </tr>\n",
       "    <tr>\n",
       "      <th>48</th>\n",
       "      <td>Virginia</td>\n",
       "      <td>32.2</td>\n",
       "    </tr>\n",
       "    <tr>\n",
       "      <th>1</th>\n",
       "      <td>Alaska</td>\n",
       "      <td>31.9</td>\n",
       "    </tr>\n",
       "    <tr>\n",
       "      <th>39</th>\n",
       "      <td>Pennsylvania</td>\n",
       "      <td>31.5</td>\n",
       "    </tr>\n",
       "    <tr>\n",
       "      <th>13</th>\n",
       "      <td>Idaho</td>\n",
       "      <td>31.1</td>\n",
       "    </tr>\n",
       "    <tr>\n",
       "      <th>21</th>\n",
       "      <td>Maryland</td>\n",
       "      <td>31.0</td>\n",
       "    </tr>\n",
       "    <tr>\n",
       "      <th>2</th>\n",
       "      <td>Arizona</td>\n",
       "      <td>30.9</td>\n",
       "    </tr>\n",
       "    <tr>\n",
       "      <th>32</th>\n",
       "      <td>New Mexico</td>\n",
       "      <td>30.9</td>\n",
       "    </tr>\n",
       "    <tr>\n",
       "      <th>24</th>\n",
       "      <td>Minnesota</td>\n",
       "      <td>30.7</td>\n",
       "    </tr>\n",
       "    <tr>\n",
       "      <th>4</th>\n",
       "      <td>California</td>\n",
       "      <td>30.3</td>\n",
       "    </tr>\n",
       "    <tr>\n",
       "      <th>29</th>\n",
       "      <td>Nevada</td>\n",
       "      <td>28.7</td>\n",
       "    </tr>\n",
       "    <tr>\n",
       "      <th>9</th>\n",
       "      <td>Florida</td>\n",
       "      <td>28.4</td>\n",
       "    </tr>\n",
       "    <tr>\n",
       "      <th>38</th>\n",
       "      <td>Oregon</td>\n",
       "      <td>28.1</td>\n",
       "    </tr>\n",
       "    <tr>\n",
       "      <th>49</th>\n",
       "      <td>Washington</td>\n",
       "      <td>28.0</td>\n",
       "    </tr>\n",
       "    <tr>\n",
       "      <th>31</th>\n",
       "      <td>New Jersey</td>\n",
       "      <td>27.7</td>\n",
       "    </tr>\n",
       "    <tr>\n",
       "      <th>33</th>\n",
       "      <td>New York</td>\n",
       "      <td>26.3</td>\n",
       "    </tr>\n",
       "    <tr>\n",
       "      <th>12</th>\n",
       "      <td>Hawaii</td>\n",
       "      <td>24.5</td>\n",
       "    </tr>\n",
       "    <tr>\n",
       "      <th>22</th>\n",
       "      <td>Massachusetts</td>\n",
       "      <td>24.4</td>\n",
       "    </tr>\n",
       "    <tr>\n",
       "      <th>8</th>\n",
       "      <td>District of Columbia</td>\n",
       "      <td>24.3</td>\n",
       "    </tr>\n",
       "    <tr>\n",
       "      <th>5</th>\n",
       "      <td>Colorado</td>\n",
       "      <td>24.2</td>\n",
       "    </tr>\n",
       "  </tbody>\n",
       "</table>\n",
       "</div>"
      ],
      "text/plain": [
       "                   State  Prevalence\n",
       "0                Alabama        39.0\n",
       "19             Louisiana        38.1\n",
       "15               Indiana        36.8\n",
       "18              Kentucky        36.6\n",
       "16                  Iowa        36.5\n",
       "37              Oklahoma        36.4\n",
       "45                 Texas        35.8\n",
       "44             Tennessee        35.6\n",
       "36                  Ohio        35.5\n",
       "17                Kansas        35.3\n",
       "23              Michigan        35.2\n",
       "10               Georgia        34.3\n",
       "26              Missouri        34.0\n",
       "28              Nebraska        34.0\n",
       "34        North Carolina        33.6\n",
       "14              Illinois        32.4\n",
       "51             Wisconsin        32.3\n",
       "48              Virginia        32.2\n",
       "1                 Alaska        31.9\n",
       "39          Pennsylvania        31.5\n",
       "13                 Idaho        31.1\n",
       "21              Maryland        31.0\n",
       "2                Arizona        30.9\n",
       "32            New Mexico        30.9\n",
       "24             Minnesota        30.7\n",
       "4             California        30.3\n",
       "29                Nevada        28.7\n",
       "9                Florida        28.4\n",
       "38                Oregon        28.1\n",
       "49            Washington        28.0\n",
       "31            New Jersey        27.7\n",
       "33              New York        26.3\n",
       "12                Hawaii        24.5\n",
       "22         Massachusetts        24.4\n",
       "8   District of Columbia        24.3\n",
       "5               Colorado        24.2"
      ]
     },
     "execution_count": 38,
     "metadata": {},
     "output_type": "execute_result"
    }
   ],
   "source": [
    "obesity.sort_values(by=['Prevalence'], ascending=False)"
   ]
  },
  {
   "cell_type": "markdown",
   "id": "268b25ed",
   "metadata": {},
   "source": [
    "<img src=\"obesity.png\" alt=\"source\" style=\"width: 800px;\"/>\n"
   ]
  },
  {
   "cell_type": "markdown",
   "id": "ba18fce1",
   "metadata": {},
   "source": [
    "## Comparative GeoMaps"
   ]
  },
  {
   "cell_type": "markdown",
   "id": "8a88db8e",
   "metadata": {},
   "source": [
    "<div style=\"display:flex\">\n",
    "    <div style=\"float:left\"><img src=\"obesity.png\" height=\"400\" width=\"auto\"/></div>\n",
    "    <div style=\"float:left\"><img src=\"Walk_Score.png\" height=\"400\" width=\"auto\"/></div>\n",
    "</div>\n",
    "\n"
   ]
  },
  {
   "cell_type": "markdown",
   "id": "ad5781d6",
   "metadata": {},
   "source": [
    "## Machine Learning Techniques"
   ]
  },
  {
   "cell_type": "code",
   "execution_count": 17,
   "id": "6869b89a",
   "metadata": {},
   "outputs": [],
   "source": [
    "walk_scores=walk_scores.sort_values(by=['State'], ascending=True)"
   ]
  },
  {
   "cell_type": "code",
   "execution_count": 18,
   "id": "0509b930",
   "metadata": {},
   "outputs": [],
   "source": [
    "# for i in range(len(walk_scores.State)):\n",
    "#     list1=walk_scores[\"State\"].tolist()\n",
    "#     list2=obesity[\"State\"].tolist()\n",
    "#     print(list1[i], list2[i])"
   ]
  },
  {
   "cell_type": "code",
   "execution_count": 19,
   "id": "08227b8d",
   "metadata": {},
   "outputs": [],
   "source": [
    "sorted_state_walk=walk_scores[\"Walk Score\"].tolist()\n",
    "sorted_state_obesity=obesity[\"Prevalence\"].tolist()\n",
    "y=np.array(sorted_state_obesity).reshape(-1, 1)\n",
    "X=np.array(sorted_state_walk).reshape(-1, 1)"
   ]
  },
  {
   "cell_type": "code",
   "execution_count": 20,
   "id": "0137e594",
   "metadata": {},
   "outputs": [],
   "source": [
    "cluster=[]\n",
    "for i in range(len(sorted_state_walk)):\n",
    "    cluster.append([sorted_state_walk[i], sorted_state_obesity[i]])\n",
    "cluster=np.array(cluster)"
   ]
  },
  {
   "cell_type": "code",
   "execution_count": 28,
   "id": "08fa42c8",
   "metadata": {
    "scrolled": true
   },
   "outputs": [
    {
     "data": {
      "text/plain": [
       "Text(0.5, 1.0, 'State Walk Score v.s. Obesity Prevelance')"
      ]
     },
     "execution_count": 28,
     "metadata": {},
     "output_type": "execute_result"
    },
    {
     "data": {
      "image/png": "[encoded data removed]",
      "text/plain": [
       "<Figure size 432x288 with 1 Axes>"
      ]
     },
     "metadata": {
      "needs_background": "light"
     },
     "output_type": "display_data"
    }
   ],
   "source": [
    "plt.scatter(X,y)\n",
    "plt.ylabel('Obesity Prevelance')\n",
    "plt.xlabel(\"Walk Score\")\n",
    "plt.title(\"State Walk Score v.s. Obesity Prevelance\")"
   ]
  },
  {
   "cell_type": "markdown",
   "id": "87e361d4",
   "metadata": {},
   "source": [
    "## Linear Regression"
   ]
  },
  {
   "cell_type": "code",
   "execution_count": 22,
   "id": "68aa16e6",
   "metadata": {},
   "outputs": [],
   "source": [
    "reg = LinearRegression().fit(X,y)"
   ]
  },
  {
   "cell_type": "code",
   "execution_count": 29,
   "id": "caa8ff63",
   "metadata": {},
   "outputs": [
    {
     "data": {
      "text/plain": [
       "Text(0.5, 1.0, 'State Walk Score v.s. Obesity Prevelance')"
      ]
     },
     "execution_count": 29,
     "metadata": {},
     "output_type": "execute_result"
    },
    {
     "data": {
      "image/png": "[encoded data removed]",
      "text/plain": [
       "<Figure size 432x288 with 1 Axes>"
      ]
     },
     "metadata": {
      "needs_background": "light"
     },
     "output_type": "display_data"
    }
   ],
   "source": [
    "plt.scatter(X,y)\n",
    "plt.plot(X,reg.predict(X))\n",
    "plt.ylabel('Obesity Prevelance')\n",
    "plt.xlabel(\"Walk Score\")\n",
    "plt.title(\"State Walk Score v.s. Obesity Prevelance\")"
   ]
  },
  {
   "cell_type": "code",
   "execution_count": 24,
   "id": "eed180e6",
   "metadata": {},
   "outputs": [
    {
     "data": {
      "text/plain": [
       "0.42100924582279164"
      ]
     },
     "execution_count": 24,
     "metadata": {},
     "output_type": "execute_result"
    }
   ],
   "source": [
    "reg.score(X,y)"
   ]
  },
  {
   "cell_type": "markdown",
   "id": "60072091",
   "metadata": {},
   "source": [
    "## Classification - KMeans"
   ]
  },
  {
   "cell_type": "code",
   "execution_count": 30,
   "id": "98c3ef8b",
   "metadata": {},
   "outputs": [
    {
     "data": {
      "text/plain": [
       "Text(0.5, 1.0, 'State Walk Score v.s. Obesity Prevelance')"
      ]
     },
     "execution_count": 30,
     "metadata": {},
     "output_type": "execute_result"
    },
    {
     "data": {
      "image/png": "[encoded data removed]",
      "text/plain": [
       "<Figure size 432x288 with 1 Axes>"
      ]
     },
     "metadata": {
      "needs_background": "light"
     },
     "output_type": "display_data"
    }
   ],
   "source": [
    "plt.scatter(cluster[:,0],cluster[:,1], label='True Position')\n",
    "kmeans = KMeans(n_clusters=2)\n",
    "kmeans.fit(cluster)\n",
    "plt.scatter(cluster[:,0],cluster[:,1], c=kmeans.labels_, cmap='rainbow')\n",
    "plt.ylabel('Obesity Prevelance')\n",
    "plt.xlabel(\"Walk Score\")\n",
    "plt.title(\"State Walk Score v.s. Obesity Prevelance\")"
   ]
  },
  {
   "cell_type": "markdown",
   "id": "d0e0e26c",
   "metadata": {},
   "source": [
    "## Classification - DBScan"
   ]
  },
  {
   "cell_type": "code",
   "execution_count": 31,
   "id": "e859afbf",
   "metadata": {
    "scrolled": true
   },
   "outputs": [
    {
     "data": {
      "text/plain": [
       "Text(0.5, 1.0, 'State Walk Score v.s. Obesity Prevelance')"
      ]
     },
     "execution_count": 31,
     "metadata": {},
     "output_type": "execute_result"
    },
    {
     "data": {
      "image/png": "[encoded data removed]",
      "text/plain": [
       "<Figure size 432x288 with 1 Axes>"
      ]
     },
     "metadata": {
      "needs_background": "light"
     },
     "output_type": "display_data"
    }
   ],
   "source": [
    "db = DBSCAN(eps=5, min_samples=1)\n",
    "db.fit(cluster)\n",
    "plt.scatter(cluster[:,0],cluster[:,1], c=db.labels_, cmap='rainbow')\n",
    "plt.ylabel('Obesity Prevelance')\n",
    "plt.xlabel(\"Walk Score\")\n",
    "plt.title(\"State Walk Score v.s. Obesity Prevelance\")"
   ]
  },
  {
   "cell_type": "markdown",
   "id": "cff739aa",
   "metadata": {},
   "source": [
    "## Work Cited\n",
    "1. “Walk Score Methodology.” Walk Score, https://www.walkscore.com/methodology.shtml. \n",
    "\n",
    "2. “Adult Obesity Prevalence Maps.” Centers for Disease Control and Prevention, Centers for Disease Control and Prevention, 16 May 2022, https://www.cdc.gov/obesity/data/prevalence-maps.html. \n",
    "3. “Learn.” Scikit, https://scikit-learn.org/stable/. "
   ]
  }
 ],
 "metadata": {
  "kernelspec": {
   "display_name": "Python 3",
   "language": "python",
   "name": "python3"
  },
  "language_info": {
   "codemirror_mode": {
    "name": "ipython",
    "version": 3
   },
   "file_extension": ".py",
   "mimetype": "text/x-python",
   "name": "python",
   "nbconvert_exporter": "python",
   "pygments_lexer": "ipython3",
   "version": "3.8.8"
  }
 },
 "nbformat": 4,
 "nbformat_minor": 5
}
